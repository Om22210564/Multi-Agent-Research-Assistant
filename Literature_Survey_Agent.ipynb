{
  "nbformat": 4,
  "nbformat_minor": 0,
  "metadata": {
    "colab": {
      "provenance": [],
      "authorship_tag": "ABX9TyMMDo5+6u7uAnRRq1sk8HVi",
      "include_colab_link": true
    },
    "kernelspec": {
      "name": "python3",
      "display_name": "Python 3"
    },
    "language_info": {
      "name": "python"
    }
  },
  "cells": [
    {
      "cell_type": "markdown",
      "metadata": {
        "id": "view-in-github",
        "colab_type": "text"
      },
      "source": [
        "<a href=\"https://colab.research.google.com/github/Om22210564/Research_Assitant_Agent/blob/main/Literature_Survey_Agent.ipynb\" target=\"_parent\"><img src=\"https://colab.research.google.com/assets/colab-badge.svg\" alt=\"Open In Colab\"/></a>"
      ]
    },
    {
      "cell_type": "markdown",
      "source": [
        "A User Agent receives the query,\n",
        "\n",
        "It constructs a custom arXiv API URL,\n",
        "\n",
        "Downloads and parses the XML,\n",
        "\n",
        "Extracts summary and metadata,\n",
        "\n",
        "Converts metadata into IEEE citation format, and\n",
        "\n",
        "Displays results in a clean table.\n",
        "\n",
        "Further the user can download specific paper.\n",
        "\n",
        "Will run RAG over each paper for QA."
      ],
      "metadata": {
        "id": "4KoMeqsnhk3_"
      }
    },
    {
      "cell_type": "code",
      "execution_count": null,
      "metadata": {
        "id": "2QI6M-tPhcX3"
      },
      "outputs": [],
      "source": [
        "!pip install langchain langchain_groq\n"
      ]
    },
    {
      "cell_type": "code",
      "source": [
        "from langchain_groq import ChatGroq\n",
        "from langchain_core.prompts import ChatPromptTemplate\n",
        "from langchain_core.runnables import RunnableMap\n",
        "import os\n",
        "from google.colab import userdata\n",
        "\n",
        "llm = ChatGroq(model=\"llama-3.3-70b-versatile\", temperature=0.2,api_key= userdata.get('GROQ_API_KEY'))\n"
      ],
      "metadata": {
        "id": "JDi9UO3Ir3VL"
      },
      "execution_count": 4,
      "outputs": []
    },
    {
      "cell_type": "code",
      "source": [
        "system_prompt = \"\"\"\n",
        "You are a helpful assistant specialized in generating correct arXiv API query URLs.\n",
        "\n",
        "Refer to the official arXiv API documentation:\n",
        "https://info.arxiv.org/help/api/user-manual.html#5-appendices\n",
        "\n",
        "Your task is:\n",
        "- Read the user's natural language research query.\n",
        "- Extract the meaningful search intent.\n",
        "- Convert it into a valid arXiv API query URL (as per the manual).\n",
        "- Use fields like `ti:` (title), `au:` (author), `cat:` (category), `submittedDate:`, etc., based on context.\n",
        "- Return only the final URL string starting with \"https://export.arxiv.org/api/query?search_query=...\"\n",
        "\n",
        "Example Input: \"AI in healthcare research paper for last 3 years\"\n",
        "Expected Output: https://export.arxiv.org/api/query?search_query=ti:AI+AND+ti:healthcare+AND+submittedDate:[202106010600+TO+202506010600]\n",
        "\n",
        "Another Input: \"Research paper of Artificial Intelligence domain\"\n",
        "Output: https://export.arxiv.org/api/query?search_query=cat:cs.AI\n",
        "\n",
        "Now handle this new query:\n",
        "\"\"\"\n"
      ],
      "metadata": {
        "id": "w7pN1fGdsG5u"
      },
      "execution_count": 11,
      "outputs": []
    },
    {
      "cell_type": "code",
      "source": [
        "from langchain_core.prompts import PromptTemplate\n",
        "\n",
        "prompt = PromptTemplate(\n",
        "    input_variables=[\"user_query\"],\n",
        "    template=system_prompt + \"{user_query}\"\n",
        ")\n",
        "\n",
        "chain = prompt | llm"
      ],
      "metadata": {
        "id": "Jby8DLxKsJmk"
      },
      "execution_count": 12,
      "outputs": []
    },
    {
      "cell_type": "code",
      "source": [
        "user_query = \"AI in healthcare research paper for last 3 years\"\n",
        "response = chain.invoke({\"user_query\": user_query})\n",
        "print(\"Generated URL:\", response.content)"
      ],
      "metadata": {
        "colab": {
          "base_uri": "https://localhost:8080/"
        },
        "id": "Zz-FXWmgsMu0",
        "outputId": "07d08e6e-0075-4d98-ddc1-23be8776a02e"
      },
      "execution_count": 13,
      "outputs": [
        {
          "output_type": "stream",
          "name": "stdout",
          "text": [
            "Generated URL: https://export.arxiv.org/api/query?search_query=ti:AI+AND+ti:healthcare+AND+submittedDate:[202106010600+TO+202506010600]\n"
          ]
        }
      ]
    },
    {
      "cell_type": "code",
      "source": [
        "user_query = \"AI in Agriculture research paper for last 5 years\"\n",
        "response = chain.invoke({\"user_query\": user_query})\n",
        "print(\"Generated URL:\", response.content)"
      ],
      "metadata": {
        "colab": {
          "base_uri": "https://localhost:8080/"
        },
        "id": "Krr8X6pHsRjX",
        "outputId": "51600849-1a87-4b73-d89a-27c0b3a1e478"
      },
      "execution_count": 14,
      "outputs": [
        {
          "output_type": "stream",
          "name": "stdout",
          "text": [
            "Generated URL: To construct the arXiv API query URL for the given search query, we need to break down the query into its components and map them to the appropriate arXiv API search fields.\n",
            "\n",
            "The search query is: \"AI in Agriculture research paper for last 5 years\"\n",
            "\n",
            "1. \"AI\" and \"Agriculture\" are the keywords that should appear in the title (`ti:`) of the research papers.\n",
            "2. The time frame is the last 5 years, which means we need to calculate the date range for the `submittedDate:` field.\n",
            "\n",
            "Assuming the current year is 2024 (for calculation purposes), the last 5 years would be from 2019 to 2024. However, since the task requires a precise date format, let's consider the start date as June 1, 2019, and the end date as June 1, 2024, for simplicity. The date format required is `YYYYMMDDHHMM`.\n",
            "\n",
            "- Start date (2019): 201906010600\n",
            "- End date (2024): 202406010600\n",
            "\n",
            "Now, let's construct the search query:\n",
            "\n",
            "- `ti:AI` for AI in the title\n",
            "- `AND` to combine conditions\n",
            "- `ti:Agriculture` for Agriculture in the title\n",
            "- `AND` to combine conditions\n",
            "- `submittedDate:[201906010600+TO+202406010600]` for the date range\n",
            "\n",
            "Combining these elements, the arXiv API query URL is:\n",
            "\n",
            "https://export.arxiv.org/api/query?search_query=ti:AI+AND+ti:Agriculture+AND+submittedDate:[201906010600+TO+202406010600]\n"
          ]
        }
      ]
    },
    {
      "cell_type": "code",
      "source": [
        "response.content.find('https')"
      ],
      "metadata": {
        "colab": {
          "base_uri": "https://localhost:8080/"
        },
        "id": "vEjKkYqAt6Qu",
        "outputId": "b70e5637-ecdf-4dc9-caf2-5a1c2334382a"
      },
      "execution_count": 15,
      "outputs": [
        {
          "output_type": "execute_result",
          "data": {
            "text/plain": [
              "1150"
            ]
          },
          "metadata": {},
          "execution_count": 15
        }
      ]
    },
    {
      "cell_type": "code",
      "source": [
        "user_query = \"Blockchain in Voting research paper for last 3 years\"\n",
        "response = chain.invoke({\"user_query\": user_query})\n",
        "print(\"Generated URL:\", response.content)"
      ],
      "metadata": {
        "colab": {
          "base_uri": "https://localhost:8080/"
        },
        "id": "U1DbuBIksyfU",
        "outputId": "4b5c7869-96d6-4e43-8933-941d25b36d26"
      },
      "execution_count": 16,
      "outputs": [
        {
          "output_type": "stream",
          "name": "stdout",
          "text": [
            "Generated URL: To construct the arXiv API query URL for the given search query, we need to break down the intent into its components and map them to the appropriate arXiv search fields.\n",
            "\n",
            "The search query is: \"Blockchain in Voting research paper for last 3 years\"\n",
            "\n",
            "1. **Blockchain** and **Voting** are the key topics, which should be searched within the title (`ti:`) of the papers.\n",
            "2. The time frame is the **last 3 years**. Given that the current year is 2025 (as of the today date provided, 23 June 2025), we calculate the start of the period as 2022. Thus, the submitted date range should be from 2022 to 2025.\n",
            "\n",
            "Now, let's construct the query:\n",
            "\n",
            "- **Title Search**: `ti:Blockchain+AND+ti:Voting`\n",
            "- **Date Range**: Assuming the start date is January 1, 2022, and the end date is June 23, 2025 (to include papers up to the current date), the date format for arXiv API is `YYYYMMDDHHMM`. Therefore, the date range is `[202201010600+TO+202506231600]`.\n",
            "\n",
            "Combining these elements into a single search query:\n",
            "\n",
            "`https://export.arxiv.org/api/query?search_query=ti:Blockchain+AND+ti:Voting+AND+submittedDate:[202201010600+TO+202506231600]`\n"
          ]
        }
      ]
    },
    {
      "cell_type": "code",
      "source": [
        "import re\n",
        "urls = re.findall(r'https?://[^\\s]+', response.content)\n",
        "arxiv_query = urls[-1] if urls else None\n",
        "\n",
        "print(arxiv_query)"
      ],
      "metadata": {
        "colab": {
          "base_uri": "https://localhost:8080/"
        },
        "id": "PfYUciUIvCdQ",
        "outputId": "2e3aad12-7d5f-4304-d25c-aa00d60b4be1"
      },
      "execution_count": 17,
      "outputs": [
        {
          "output_type": "stream",
          "name": "stdout",
          "text": [
            "https://export.arxiv.org/api/query?search_query=ti:Blockchain+AND+ti:Voting+AND+submittedDate:[202201010600+TO+202506231600]`\n"
          ]
        }
      ]
    },
    {
      "cell_type": "markdown",
      "source": [
        " Download XML"
      ],
      "metadata": {
        "id": "yGaKrJhYttUG"
      }
    },
    {
      "cell_type": "code",
      "source": [
        "import requests\n",
        "\n",
        "def fetch_arxiv_data(query_url):\n",
        "    response = requests.get(query_url)\n",
        "    if response.status_code == 200:\n",
        "        return response.content\n",
        "    else:\n",
        "        raise Exception(f\"Failed to fetch: {response.status_code}\")"
      ],
      "metadata": {
        "id": "dMZzWehbtBbW"
      },
      "execution_count": 18,
      "outputs": []
    },
    {
      "cell_type": "code",
      "source": [
        "fetch_arxiv_data(arxiv_query)"
      ],
      "metadata": {
        "id": "UP82qPmOts1B"
      },
      "execution_count": null,
      "outputs": []
    },
    {
      "cell_type": "markdown",
      "source": [
        "To Make Citation"
      ],
      "metadata": {
        "id": "SZkSJ4RswQM-"
      }
    },
    {
      "cell_type": "code",
      "source": [
        "import xml.etree.ElementTree as ET\n",
        "from datetime import datetime\n",
        "\n",
        "def parse_arxiv_entries_with_citation(xml_data):\n",
        "    root = ET.fromstring(xml_data)\n",
        "    ns = {'atom': 'http://www.w3.org/2005/Atom'}\n",
        "    entries = root.findall('atom:entry', ns)\n",
        "\n",
        "    results = []\n",
        "\n",
        "    for entry in entries:\n",
        "        arxiv_id = entry.find('atom:id', ns).text.split('/')[-1]\n",
        "        title = entry.find('atom:title', ns).text.strip()\n",
        "        summary = entry.find('atom:summary', ns).text.strip().replace('\\n', ' ')\n",
        "\n",
        "        # Author extraction\n",
        "        authors = entry.findall('atom:author', ns)\n",
        "        author_names = []\n",
        "        for author in authors:\n",
        "            name = author.find('atom:name', ns).text\n",
        "            first, *last = name.split()\n",
        "            initials = first[0] + \".\"\n",
        "            last_name = last[-1] if last else first\n",
        "            author_names.append(f\"{initials} {last_name}\")\n",
        "        author_str = ', '.join(author_names)\n",
        "\n",
        "        # Published date\n",
        "        published = entry.find('atom:published', ns).text\n",
        "        date_obj = datetime.strptime(published, \"%Y-%m-%dT%H:%M:%SZ\")\n",
        "        month_year = date_obj.strftime(\"%b. %Y\")\n",
        "\n",
        "        # IEEE-style citation\n",
        "        citation = f'{author_str}, “{title.rstrip(\".\")},” *arXiv preprint arXiv:{arxiv_id}*, {month_year}. [Online]. Available: https://arxiv.org/abs/{arxiv_id}'\n",
        "\n",
        "        results.append({\n",
        "            \"Title\": title,\n",
        "            \"Summary\": summary,\n",
        "            \"arXiv ID\": arxiv_id,\n",
        "            \"Citation\": citation\n",
        "        })\n",
        "\n",
        "    return results\n"
      ],
      "metadata": {
        "id": "i1AG0UuNwUrc"
      },
      "execution_count": 20,
      "outputs": []
    },
    {
      "cell_type": "code",
      "source": [
        "\n",
        "xml_data = fetch_arxiv_data(arxiv_query)\n",
        "\n",
        "papers = parse_arxiv_entries_with_citation(xml_data)\n",
        "\n",
        "import pandas as pd\n",
        "df = pd.DataFrame(papers)\n",
        "df.head()\n"
      ],
      "metadata": {
        "colab": {
          "base_uri": "https://localhost:8080/",
          "height": 206
        },
        "id": "Z487CoZuxRSs",
        "outputId": "873f72fc-19b7-4e83-8ec1-4bd999e38df2"
      },
      "execution_count": 21,
      "outputs": [
        {
          "output_type": "execute_result",
          "data": {
            "text/plain": [
              "                                               Title  \\\n",
              "0  Anonymous voting scheme using quantum assisted...   \n",
              "1  SBvote: Scalable Self-Tallying Blockchain-Base...   \n",
              "2  A Blockchain-based Electronic Voting System: E...   \n",
              "3  DeepThought: a Reputation and Voting-based Blo...   \n",
              "4  Voting Participation and Engagement in Blockch...   \n",
              "\n",
              "                                             Summary      arXiv ID  \\\n",
              "0  Voting forms the most important tool for arriv...  2206.03182v1   \n",
              "1  Decentralized electronic voting solutions repr...  2206.06019v1   \n",
              "2  The development of an electronic voting system...  2307.10726v1   \n",
              "3  Thanks to built-in immutability and persistenc...  2209.11032v2   \n",
              "4  This paper investigates the potential of block...  2404.08906v1   \n",
              "\n",
              "                                            Citation  \n",
              "0  S. Mishra, K. Thapliyal, S. Rewanth, A. Parakh...  \n",
              "1  I. Stančíková, I. Homoliak, “SBvote: Scalable ...  \n",
              "2  A. Spanos, I. Kantzavelou, “A Blockchain-based...  \n",
              "3  M. Gennaro, L. Italiano, G. Meroni, G. Quattro...  \n",
              "4  L. Ante, A. Saggu, B. Schellinger, F. Wazinksi...  "
            ],
            "text/html": [
              "\n",
              "  <div id=\"df-c2c0209c-160c-4e6c-839e-8c6c3f083623\" class=\"colab-df-container\">\n",
              "    <div>\n",
              "<style scoped>\n",
              "    .dataframe tbody tr th:only-of-type {\n",
              "        vertical-align: middle;\n",
              "    }\n",
              "\n",
              "    .dataframe tbody tr th {\n",
              "        vertical-align: top;\n",
              "    }\n",
              "\n",
              "    .dataframe thead th {\n",
              "        text-align: right;\n",
              "    }\n",
              "</style>\n",
              "<table border=\"1\" class=\"dataframe\">\n",
              "  <thead>\n",
              "    <tr style=\"text-align: right;\">\n",
              "      <th></th>\n",
              "      <th>Title</th>\n",
              "      <th>Summary</th>\n",
              "      <th>arXiv ID</th>\n",
              "      <th>Citation</th>\n",
              "    </tr>\n",
              "  </thead>\n",
              "  <tbody>\n",
              "    <tr>\n",
              "      <th>0</th>\n",
              "      <td>Anonymous voting scheme using quantum assisted...</td>\n",
              "      <td>Voting forms the most important tool for arriv...</td>\n",
              "      <td>2206.03182v1</td>\n",
              "      <td>S. Mishra, K. Thapliyal, S. Rewanth, A. Parakh...</td>\n",
              "    </tr>\n",
              "    <tr>\n",
              "      <th>1</th>\n",
              "      <td>SBvote: Scalable Self-Tallying Blockchain-Base...</td>\n",
              "      <td>Decentralized electronic voting solutions repr...</td>\n",
              "      <td>2206.06019v1</td>\n",
              "      <td>I. Stančíková, I. Homoliak, “SBvote: Scalable ...</td>\n",
              "    </tr>\n",
              "    <tr>\n",
              "      <th>2</th>\n",
              "      <td>A Blockchain-based Electronic Voting System: E...</td>\n",
              "      <td>The development of an electronic voting system...</td>\n",
              "      <td>2307.10726v1</td>\n",
              "      <td>A. Spanos, I. Kantzavelou, “A Blockchain-based...</td>\n",
              "    </tr>\n",
              "    <tr>\n",
              "      <th>3</th>\n",
              "      <td>DeepThought: a Reputation and Voting-based Blo...</td>\n",
              "      <td>Thanks to built-in immutability and persistenc...</td>\n",
              "      <td>2209.11032v2</td>\n",
              "      <td>M. Gennaro, L. Italiano, G. Meroni, G. Quattro...</td>\n",
              "    </tr>\n",
              "    <tr>\n",
              "      <th>4</th>\n",
              "      <td>Voting Participation and Engagement in Blockch...</td>\n",
              "      <td>This paper investigates the potential of block...</td>\n",
              "      <td>2404.08906v1</td>\n",
              "      <td>L. Ante, A. Saggu, B. Schellinger, F. Wazinksi...</td>\n",
              "    </tr>\n",
              "  </tbody>\n",
              "</table>\n",
              "</div>\n",
              "    <div class=\"colab-df-buttons\">\n",
              "\n",
              "  <div class=\"colab-df-container\">\n",
              "    <button class=\"colab-df-convert\" onclick=\"convertToInteractive('df-c2c0209c-160c-4e6c-839e-8c6c3f083623')\"\n",
              "            title=\"Convert this dataframe to an interactive table.\"\n",
              "            style=\"display:none;\">\n",
              "\n",
              "  <svg xmlns=\"http://www.w3.org/2000/svg\" height=\"24px\" viewBox=\"0 -960 960 960\">\n",
              "    <path d=\"M120-120v-720h720v720H120Zm60-500h600v-160H180v160Zm220 220h160v-160H400v160Zm0 220h160v-160H400v160ZM180-400h160v-160H180v160Zm440 0h160v-160H620v160ZM180-180h160v-160H180v160Zm440 0h160v-160H620v160Z\"/>\n",
              "  </svg>\n",
              "    </button>\n",
              "\n",
              "  <style>\n",
              "    .colab-df-container {\n",
              "      display:flex;\n",
              "      gap: 12px;\n",
              "    }\n",
              "\n",
              "    .colab-df-convert {\n",
              "      background-color: #E8F0FE;\n",
              "      border: none;\n",
              "      border-radius: 50%;\n",
              "      cursor: pointer;\n",
              "      display: none;\n",
              "      fill: #1967D2;\n",
              "      height: 32px;\n",
              "      padding: 0 0 0 0;\n",
              "      width: 32px;\n",
              "    }\n",
              "\n",
              "    .colab-df-convert:hover {\n",
              "      background-color: #E2EBFA;\n",
              "      box-shadow: 0px 1px 2px rgba(60, 64, 67, 0.3), 0px 1px 3px 1px rgba(60, 64, 67, 0.15);\n",
              "      fill: #174EA6;\n",
              "    }\n",
              "\n",
              "    .colab-df-buttons div {\n",
              "      margin-bottom: 4px;\n",
              "    }\n",
              "\n",
              "    [theme=dark] .colab-df-convert {\n",
              "      background-color: #3B4455;\n",
              "      fill: #D2E3FC;\n",
              "    }\n",
              "\n",
              "    [theme=dark] .colab-df-convert:hover {\n",
              "      background-color: #434B5C;\n",
              "      box-shadow: 0px 1px 3px 1px rgba(0, 0, 0, 0.15);\n",
              "      filter: drop-shadow(0px 1px 2px rgba(0, 0, 0, 0.3));\n",
              "      fill: #FFFFFF;\n",
              "    }\n",
              "  </style>\n",
              "\n",
              "    <script>\n",
              "      const buttonEl =\n",
              "        document.querySelector('#df-c2c0209c-160c-4e6c-839e-8c6c3f083623 button.colab-df-convert');\n",
              "      buttonEl.style.display =\n",
              "        google.colab.kernel.accessAllowed ? 'block' : 'none';\n",
              "\n",
              "      async function convertToInteractive(key) {\n",
              "        const element = document.querySelector('#df-c2c0209c-160c-4e6c-839e-8c6c3f083623');\n",
              "        const dataTable =\n",
              "          await google.colab.kernel.invokeFunction('convertToInteractive',\n",
              "                                                    [key], {});\n",
              "        if (!dataTable) return;\n",
              "\n",
              "        const docLinkHtml = 'Like what you see? Visit the ' +\n",
              "          '<a target=\"_blank\" href=https://colab.research.google.com/notebooks/data_table.ipynb>data table notebook</a>'\n",
              "          + ' to learn more about interactive tables.';\n",
              "        element.innerHTML = '';\n",
              "        dataTable['output_type'] = 'display_data';\n",
              "        await google.colab.output.renderOutput(dataTable, element);\n",
              "        const docLink = document.createElement('div');\n",
              "        docLink.innerHTML = docLinkHtml;\n",
              "        element.appendChild(docLink);\n",
              "      }\n",
              "    </script>\n",
              "  </div>\n",
              "\n",
              "\n",
              "    <div id=\"df-5065bc34-9c6b-4ff9-bcca-6de43c7a63cb\">\n",
              "      <button class=\"colab-df-quickchart\" onclick=\"quickchart('df-5065bc34-9c6b-4ff9-bcca-6de43c7a63cb')\"\n",
              "                title=\"Suggest charts\"\n",
              "                style=\"display:none;\">\n",
              "\n",
              "<svg xmlns=\"http://www.w3.org/2000/svg\" height=\"24px\"viewBox=\"0 0 24 24\"\n",
              "     width=\"24px\">\n",
              "    <g>\n",
              "        <path d=\"M19 3H5c-1.1 0-2 .9-2 2v14c0 1.1.9 2 2 2h14c1.1 0 2-.9 2-2V5c0-1.1-.9-2-2-2zM9 17H7v-7h2v7zm4 0h-2V7h2v10zm4 0h-2v-4h2v4z\"/>\n",
              "    </g>\n",
              "</svg>\n",
              "      </button>\n",
              "\n",
              "<style>\n",
              "  .colab-df-quickchart {\n",
              "      --bg-color: #E8F0FE;\n",
              "      --fill-color: #1967D2;\n",
              "      --hover-bg-color: #E2EBFA;\n",
              "      --hover-fill-color: #174EA6;\n",
              "      --disabled-fill-color: #AAA;\n",
              "      --disabled-bg-color: #DDD;\n",
              "  }\n",
              "\n",
              "  [theme=dark] .colab-df-quickchart {\n",
              "      --bg-color: #3B4455;\n",
              "      --fill-color: #D2E3FC;\n",
              "      --hover-bg-color: #434B5C;\n",
              "      --hover-fill-color: #FFFFFF;\n",
              "      --disabled-bg-color: #3B4455;\n",
              "      --disabled-fill-color: #666;\n",
              "  }\n",
              "\n",
              "  .colab-df-quickchart {\n",
              "    background-color: var(--bg-color);\n",
              "    border: none;\n",
              "    border-radius: 50%;\n",
              "    cursor: pointer;\n",
              "    display: none;\n",
              "    fill: var(--fill-color);\n",
              "    height: 32px;\n",
              "    padding: 0;\n",
              "    width: 32px;\n",
              "  }\n",
              "\n",
              "  .colab-df-quickchart:hover {\n",
              "    background-color: var(--hover-bg-color);\n",
              "    box-shadow: 0 1px 2px rgba(60, 64, 67, 0.3), 0 1px 3px 1px rgba(60, 64, 67, 0.15);\n",
              "    fill: var(--button-hover-fill-color);\n",
              "  }\n",
              "\n",
              "  .colab-df-quickchart-complete:disabled,\n",
              "  .colab-df-quickchart-complete:disabled:hover {\n",
              "    background-color: var(--disabled-bg-color);\n",
              "    fill: var(--disabled-fill-color);\n",
              "    box-shadow: none;\n",
              "  }\n",
              "\n",
              "  .colab-df-spinner {\n",
              "    border: 2px solid var(--fill-color);\n",
              "    border-color: transparent;\n",
              "    border-bottom-color: var(--fill-color);\n",
              "    animation:\n",
              "      spin 1s steps(1) infinite;\n",
              "  }\n",
              "\n",
              "  @keyframes spin {\n",
              "    0% {\n",
              "      border-color: transparent;\n",
              "      border-bottom-color: var(--fill-color);\n",
              "      border-left-color: var(--fill-color);\n",
              "    }\n",
              "    20% {\n",
              "      border-color: transparent;\n",
              "      border-left-color: var(--fill-color);\n",
              "      border-top-color: var(--fill-color);\n",
              "    }\n",
              "    30% {\n",
              "      border-color: transparent;\n",
              "      border-left-color: var(--fill-color);\n",
              "      border-top-color: var(--fill-color);\n",
              "      border-right-color: var(--fill-color);\n",
              "    }\n",
              "    40% {\n",
              "      border-color: transparent;\n",
              "      border-right-color: var(--fill-color);\n",
              "      border-top-color: var(--fill-color);\n",
              "    }\n",
              "    60% {\n",
              "      border-color: transparent;\n",
              "      border-right-color: var(--fill-color);\n",
              "    }\n",
              "    80% {\n",
              "      border-color: transparent;\n",
              "      border-right-color: var(--fill-color);\n",
              "      border-bottom-color: var(--fill-color);\n",
              "    }\n",
              "    90% {\n",
              "      border-color: transparent;\n",
              "      border-bottom-color: var(--fill-color);\n",
              "    }\n",
              "  }\n",
              "</style>\n",
              "\n",
              "      <script>\n",
              "        async function quickchart(key) {\n",
              "          const quickchartButtonEl =\n",
              "            document.querySelector('#' + key + ' button');\n",
              "          quickchartButtonEl.disabled = true;  // To prevent multiple clicks.\n",
              "          quickchartButtonEl.classList.add('colab-df-spinner');\n",
              "          try {\n",
              "            const charts = await google.colab.kernel.invokeFunction(\n",
              "                'suggestCharts', [key], {});\n",
              "          } catch (error) {\n",
              "            console.error('Error during call to suggestCharts:', error);\n",
              "          }\n",
              "          quickchartButtonEl.classList.remove('colab-df-spinner');\n",
              "          quickchartButtonEl.classList.add('colab-df-quickchart-complete');\n",
              "        }\n",
              "        (() => {\n",
              "          let quickchartButtonEl =\n",
              "            document.querySelector('#df-5065bc34-9c6b-4ff9-bcca-6de43c7a63cb button');\n",
              "          quickchartButtonEl.style.display =\n",
              "            google.colab.kernel.accessAllowed ? 'block' : 'none';\n",
              "        })();\n",
              "      </script>\n",
              "    </div>\n",
              "\n",
              "    </div>\n",
              "  </div>\n"
            ],
            "application/vnd.google.colaboratory.intrinsic+json": {
              "type": "dataframe",
              "variable_name": "df",
              "summary": "{\n  \"name\": \"df\",\n  \"rows\": 10,\n  \"fields\": [\n    {\n      \"column\": \"Title\",\n      \"properties\": {\n        \"dtype\": \"string\",\n        \"num_unique_values\": 10,\n        \"samples\": [\n          \"ElectAnon: A Blockchain-Based, Anonymous, Robust and Scalable\\n  Ranked-Choice Voting Protocol\",\n          \"SBvote: Scalable Self-Tallying Blockchain-Based Voting\",\n          \"Effects of Vote Delegation in Blockchains: Who Wins?\"\n        ],\n        \"semantic_type\": \"\",\n        \"description\": \"\"\n      }\n    },\n    {\n      \"column\": \"Summary\",\n      \"properties\": {\n        \"dtype\": \"string\",\n        \"num_unique_values\": 10,\n        \"samples\": [\n          \"Remote voting has become more critical in recent years, especially after the Covid-19 outbreak. Blockchain technology and its benefits like decentralization, security, and transparency have encouraged remote voting systems to use blockchains. Analysis of existing solutions reveals that anonymity, robustness, and scalability are common problems in blockchain-based election systems. In this work, we propose ElectAnon, a blockchain-based, ranked-choice election protocol focusing on anonymity, robustness, and scalability. ElectAnon achieves anonymity by enabling voters to cast their votes via zero-knowledge proofs anonymously. Robustness is realized by removing the direct control of the authorities in the voting process by using timed-state machines. Results show that ElectAnon is scalable amongst existing works as it reduces the gas consumption up to 89% compared to previous works. The proposed protocol includes a candidate proposal system and swappable tallying libraries. An extension is also proposed to minimize the trust assumption on election authorities. Our code is available on https://github.com/ceyonur/electanon.\",\n          \"Decentralized electronic voting solutions represent a promising advancement in electronic voting. One of the e-voting paradigms, the self-tallying scheme, offers strong protection of the voters' privacy while making the whole voting process verifiable. Decentralized smart contract platforms became interesting practical instantiation of the immutable bulletin board that this scheme requires to preserve its properties. Existing smart contract-based approaches employing the self-tallying scheme (such as OVN or BBB-Voting) are only suitable for a boardroom voting scenario due to their scalability limitation. The goal of our work is to build on existing solutions to achieve scalability without losing privacy guarantees and verifiability. We present SBvote, a blockchain-based self-tallying voting protocol that is scalable in the number of voters and therefore suitable for large-scale elections. The evaluation of our proof-of-concept implementation shows that the protocol's scalability is limited only by the underlying blockchain platform. We evaluated the scalability of SBvote on two public smart contract platforms -- Gnosis and Harmony. Despite the limitations imposed by the throughput of the blockchain platform, SBvote can accommodate elections with millions of voters.\",\n          \"This paper investigates which alternative benefits from vote delegation in binary collective decisions within blockchains. We begin by examining two extreme cases of voting weight distributions: Equal-Weight (EW), where each voter has equal voting weight, and Dominant-Weight (DW), where a single voter holds a majority of the voting weights before any delegation occurs. We show that vote delegation tends to benefit the ex-ante minority under EW, i.e., the alternative with a lower initial probability of winning. The converse holds under DW distribution. Through numerical simulations, we extend our findings to arbitrary voting weight distributions, showing that vote delegation benefits the ex-ante majority when it leads to a more balanced distribution of voting weights. Finally, in large communities where all agents have equal voting weight, vote delegation has a negligible impact on the outcome. These insights provide practical guidance for governance decisions in blockchains.\"\n        ],\n        \"semantic_type\": \"\",\n        \"description\": \"\"\n      }\n    },\n    {\n      \"column\": \"arXiv ID\",\n      \"properties\": {\n        \"dtype\": \"string\",\n        \"num_unique_values\": 10,\n        \"samples\": [\n          \"2204.00057v2\",\n          \"2206.06019v1\",\n          \"2408.05410v1\"\n        ],\n        \"semantic_type\": \"\",\n        \"description\": \"\"\n      }\n    },\n    {\n      \"column\": \"Citation\",\n      \"properties\": {\n        \"dtype\": \"string\",\n        \"num_unique_values\": 10,\n        \"samples\": [\n          \"C. Onur, A. Yurdakul, \\u201cElectAnon: A Blockchain-Based, Anonymous, Robust and Scalable\\n  Ranked-Choice Voting Protocol,\\u201d *arXiv preprint arXiv:2204.00057v2*, Mar. 2022. [Online]. Available: https://arxiv.org/abs/2204.00057v2\",\n          \"I. Stan\\u010d\\u00edkov\\u00e1, I. Homoliak, \\u201cSBvote: Scalable Self-Tallying Blockchain-Based Voting,\\u201d *arXiv preprint arXiv:2206.06019v1*, Jun. 2022. [Online]. Available: https://arxiv.org/abs/2206.06019v1\",\n          \"H. Gersbach, M. Schneider, P. Shahkar, \\u201cEffects of Vote Delegation in Blockchains: Who Wins?,\\u201d *arXiv preprint arXiv:2408.05410v1*, Aug. 2024. [Online]. Available: https://arxiv.org/abs/2408.05410v1\"\n        ],\n        \"semantic_type\": \"\",\n        \"description\": \"\"\n      }\n    }\n  ]\n}"
            }
          },
          "metadata": {},
          "execution_count": 21
        }
      ]
    },
    {
      "cell_type": "code",
      "source": [
        "df"
      ],
      "metadata": {
        "colab": {
          "base_uri": "https://localhost:8080/",
          "height": 363
        },
        "id": "dsYnBwkf06z4",
        "outputId": "398ffe7d-9d49-4963-bde1-e8e73df51b7c"
      },
      "execution_count": 22,
      "outputs": [
        {
          "output_type": "execute_result",
          "data": {
            "text/plain": [
              "                                               Title  \\\n",
              "0  Anonymous voting scheme using quantum assisted...   \n",
              "1  SBvote: Scalable Self-Tallying Blockchain-Base...   \n",
              "2  A Blockchain-based Electronic Voting System: E...   \n",
              "3  DeepThought: a Reputation and Voting-based Blo...   \n",
              "4  Voting Participation and Engagement in Blockch...   \n",
              "5  Effects of Vote Delegation in Blockchains: Who...   \n",
              "6  Validated Strong Consensus Protocol for Asynch...   \n",
              "7  Blockchain-based decentralized voting system s...   \n",
              "8  ElectAnon: A Blockchain-Based, Anonymous, Robu...   \n",
              "9  Understanding Blockchain Governance: Analyzing...   \n",
              "\n",
              "                                             Summary      arXiv ID  \\\n",
              "0  Voting forms the most important tool for arriv...  2206.03182v1   \n",
              "1  Decentralized electronic voting solutions repr...  2206.06019v1   \n",
              "2  The development of an electronic voting system...  2307.10726v1   \n",
              "3  Thanks to built-in immutability and persistenc...  2209.11032v2   \n",
              "4  This paper investigates the potential of block...  2404.08906v1   \n",
              "5  This paper investigates which alternative bene...  2408.05410v1   \n",
              "6  Vote-based blockchains construct a state machi...  2409.08161v2   \n",
              "7  This research study focuses primarily on Block...  2303.06306v1   \n",
              "8  Remote voting has become more critical in rece...  2204.00057v2   \n",
              "9  Smart contracts are contractual agreements bet...  2305.17655v3   \n",
              "\n",
              "                                            Citation  \n",
              "0  S. Mishra, K. Thapliyal, S. Rewanth, A. Parakh...  \n",
              "1  I. Stančíková, I. Homoliak, “SBvote: Scalable ...  \n",
              "2  A. Spanos, I. Kantzavelou, “A Blockchain-based...  \n",
              "3  M. Gennaro, L. Italiano, G. Meroni, G. Quattro...  \n",
              "4  L. Ante, A. Saggu, B. Schellinger, F. Wazinksi...  \n",
              "5  H. Gersbach, M. Schneider, P. Shahkar, “Effect...  \n",
              "6  Y. Xu, J. Shao, T. Slaats, B. Düdder, Y. Zhou,...  \n",
              "7  J. Singh, U. Rastogi, Y. Goel, B. Gupta, U. Ut...  \n",
              "8  C. Onur, A. Yurdakul, “ElectAnon: A Blockchain...  \n",
              "9  J. Messias, V. Pahari, B. Chandrasekaran, K. G...  "
            ],
            "text/html": [
              "\n",
              "  <div id=\"df-94c75e7b-9331-467c-92d6-8b737d875371\" class=\"colab-df-container\">\n",
              "    <div>\n",
              "<style scoped>\n",
              "    .dataframe tbody tr th:only-of-type {\n",
              "        vertical-align: middle;\n",
              "    }\n",
              "\n",
              "    .dataframe tbody tr th {\n",
              "        vertical-align: top;\n",
              "    }\n",
              "\n",
              "    .dataframe thead th {\n",
              "        text-align: right;\n",
              "    }\n",
              "</style>\n",
              "<table border=\"1\" class=\"dataframe\">\n",
              "  <thead>\n",
              "    <tr style=\"text-align: right;\">\n",
              "      <th></th>\n",
              "      <th>Title</th>\n",
              "      <th>Summary</th>\n",
              "      <th>arXiv ID</th>\n",
              "      <th>Citation</th>\n",
              "    </tr>\n",
              "  </thead>\n",
              "  <tbody>\n",
              "    <tr>\n",
              "      <th>0</th>\n",
              "      <td>Anonymous voting scheme using quantum assisted...</td>\n",
              "      <td>Voting forms the most important tool for arriv...</td>\n",
              "      <td>2206.03182v1</td>\n",
              "      <td>S. Mishra, K. Thapliyal, S. Rewanth, A. Parakh...</td>\n",
              "    </tr>\n",
              "    <tr>\n",
              "      <th>1</th>\n",
              "      <td>SBvote: Scalable Self-Tallying Blockchain-Base...</td>\n",
              "      <td>Decentralized electronic voting solutions repr...</td>\n",
              "      <td>2206.06019v1</td>\n",
              "      <td>I. Stančíková, I. Homoliak, “SBvote: Scalable ...</td>\n",
              "    </tr>\n",
              "    <tr>\n",
              "      <th>2</th>\n",
              "      <td>A Blockchain-based Electronic Voting System: E...</td>\n",
              "      <td>The development of an electronic voting system...</td>\n",
              "      <td>2307.10726v1</td>\n",
              "      <td>A. Spanos, I. Kantzavelou, “A Blockchain-based...</td>\n",
              "    </tr>\n",
              "    <tr>\n",
              "      <th>3</th>\n",
              "      <td>DeepThought: a Reputation and Voting-based Blo...</td>\n",
              "      <td>Thanks to built-in immutability and persistenc...</td>\n",
              "      <td>2209.11032v2</td>\n",
              "      <td>M. Gennaro, L. Italiano, G. Meroni, G. Quattro...</td>\n",
              "    </tr>\n",
              "    <tr>\n",
              "      <th>4</th>\n",
              "      <td>Voting Participation and Engagement in Blockch...</td>\n",
              "      <td>This paper investigates the potential of block...</td>\n",
              "      <td>2404.08906v1</td>\n",
              "      <td>L. Ante, A. Saggu, B. Schellinger, F. Wazinksi...</td>\n",
              "    </tr>\n",
              "    <tr>\n",
              "      <th>5</th>\n",
              "      <td>Effects of Vote Delegation in Blockchains: Who...</td>\n",
              "      <td>This paper investigates which alternative bene...</td>\n",
              "      <td>2408.05410v1</td>\n",
              "      <td>H. Gersbach, M. Schneider, P. Shahkar, “Effect...</td>\n",
              "    </tr>\n",
              "    <tr>\n",
              "      <th>6</th>\n",
              "      <td>Validated Strong Consensus Protocol for Asynch...</td>\n",
              "      <td>Vote-based blockchains construct a state machi...</td>\n",
              "      <td>2409.08161v2</td>\n",
              "      <td>Y. Xu, J. Shao, T. Slaats, B. Düdder, Y. Zhou,...</td>\n",
              "    </tr>\n",
              "    <tr>\n",
              "      <th>7</th>\n",
              "      <td>Blockchain-based decentralized voting system s...</td>\n",
              "      <td>This research study focuses primarily on Block...</td>\n",
              "      <td>2303.06306v1</td>\n",
              "      <td>J. Singh, U. Rastogi, Y. Goel, B. Gupta, U. Ut...</td>\n",
              "    </tr>\n",
              "    <tr>\n",
              "      <th>8</th>\n",
              "      <td>ElectAnon: A Blockchain-Based, Anonymous, Robu...</td>\n",
              "      <td>Remote voting has become more critical in rece...</td>\n",
              "      <td>2204.00057v2</td>\n",
              "      <td>C. Onur, A. Yurdakul, “ElectAnon: A Blockchain...</td>\n",
              "    </tr>\n",
              "    <tr>\n",
              "      <th>9</th>\n",
              "      <td>Understanding Blockchain Governance: Analyzing...</td>\n",
              "      <td>Smart contracts are contractual agreements bet...</td>\n",
              "      <td>2305.17655v3</td>\n",
              "      <td>J. Messias, V. Pahari, B. Chandrasekaran, K. G...</td>\n",
              "    </tr>\n",
              "  </tbody>\n",
              "</table>\n",
              "</div>\n",
              "    <div class=\"colab-df-buttons\">\n",
              "\n",
              "  <div class=\"colab-df-container\">\n",
              "    <button class=\"colab-df-convert\" onclick=\"convertToInteractive('df-94c75e7b-9331-467c-92d6-8b737d875371')\"\n",
              "            title=\"Convert this dataframe to an interactive table.\"\n",
              "            style=\"display:none;\">\n",
              "\n",
              "  <svg xmlns=\"http://www.w3.org/2000/svg\" height=\"24px\" viewBox=\"0 -960 960 960\">\n",
              "    <path d=\"M120-120v-720h720v720H120Zm60-500h600v-160H180v160Zm220 220h160v-160H400v160Zm0 220h160v-160H400v160ZM180-400h160v-160H180v160Zm440 0h160v-160H620v160ZM180-180h160v-160H180v160Zm440 0h160v-160H620v160Z\"/>\n",
              "  </svg>\n",
              "    </button>\n",
              "\n",
              "  <style>\n",
              "    .colab-df-container {\n",
              "      display:flex;\n",
              "      gap: 12px;\n",
              "    }\n",
              "\n",
              "    .colab-df-convert {\n",
              "      background-color: #E8F0FE;\n",
              "      border: none;\n",
              "      border-radius: 50%;\n",
              "      cursor: pointer;\n",
              "      display: none;\n",
              "      fill: #1967D2;\n",
              "      height: 32px;\n",
              "      padding: 0 0 0 0;\n",
              "      width: 32px;\n",
              "    }\n",
              "\n",
              "    .colab-df-convert:hover {\n",
              "      background-color: #E2EBFA;\n",
              "      box-shadow: 0px 1px 2px rgba(60, 64, 67, 0.3), 0px 1px 3px 1px rgba(60, 64, 67, 0.15);\n",
              "      fill: #174EA6;\n",
              "    }\n",
              "\n",
              "    .colab-df-buttons div {\n",
              "      margin-bottom: 4px;\n",
              "    }\n",
              "\n",
              "    [theme=dark] .colab-df-convert {\n",
              "      background-color: #3B4455;\n",
              "      fill: #D2E3FC;\n",
              "    }\n",
              "\n",
              "    [theme=dark] .colab-df-convert:hover {\n",
              "      background-color: #434B5C;\n",
              "      box-shadow: 0px 1px 3px 1px rgba(0, 0, 0, 0.15);\n",
              "      filter: drop-shadow(0px 1px 2px rgba(0, 0, 0, 0.3));\n",
              "      fill: #FFFFFF;\n",
              "    }\n",
              "  </style>\n",
              "\n",
              "    <script>\n",
              "      const buttonEl =\n",
              "        document.querySelector('#df-94c75e7b-9331-467c-92d6-8b737d875371 button.colab-df-convert');\n",
              "      buttonEl.style.display =\n",
              "        google.colab.kernel.accessAllowed ? 'block' : 'none';\n",
              "\n",
              "      async function convertToInteractive(key) {\n",
              "        const element = document.querySelector('#df-94c75e7b-9331-467c-92d6-8b737d875371');\n",
              "        const dataTable =\n",
              "          await google.colab.kernel.invokeFunction('convertToInteractive',\n",
              "                                                    [key], {});\n",
              "        if (!dataTable) return;\n",
              "\n",
              "        const docLinkHtml = 'Like what you see? Visit the ' +\n",
              "          '<a target=\"_blank\" href=https://colab.research.google.com/notebooks/data_table.ipynb>data table notebook</a>'\n",
              "          + ' to learn more about interactive tables.';\n",
              "        element.innerHTML = '';\n",
              "        dataTable['output_type'] = 'display_data';\n",
              "        await google.colab.output.renderOutput(dataTable, element);\n",
              "        const docLink = document.createElement('div');\n",
              "        docLink.innerHTML = docLinkHtml;\n",
              "        element.appendChild(docLink);\n",
              "      }\n",
              "    </script>\n",
              "  </div>\n",
              "\n",
              "\n",
              "    <div id=\"df-a09cef98-4a48-49b6-a62f-36a8995280e6\">\n",
              "      <button class=\"colab-df-quickchart\" onclick=\"quickchart('df-a09cef98-4a48-49b6-a62f-36a8995280e6')\"\n",
              "                title=\"Suggest charts\"\n",
              "                style=\"display:none;\">\n",
              "\n",
              "<svg xmlns=\"http://www.w3.org/2000/svg\" height=\"24px\"viewBox=\"0 0 24 24\"\n",
              "     width=\"24px\">\n",
              "    <g>\n",
              "        <path d=\"M19 3H5c-1.1 0-2 .9-2 2v14c0 1.1.9 2 2 2h14c1.1 0 2-.9 2-2V5c0-1.1-.9-2-2-2zM9 17H7v-7h2v7zm4 0h-2V7h2v10zm4 0h-2v-4h2v4z\"/>\n",
              "    </g>\n",
              "</svg>\n",
              "      </button>\n",
              "\n",
              "<style>\n",
              "  .colab-df-quickchart {\n",
              "      --bg-color: #E8F0FE;\n",
              "      --fill-color: #1967D2;\n",
              "      --hover-bg-color: #E2EBFA;\n",
              "      --hover-fill-color: #174EA6;\n",
              "      --disabled-fill-color: #AAA;\n",
              "      --disabled-bg-color: #DDD;\n",
              "  }\n",
              "\n",
              "  [theme=dark] .colab-df-quickchart {\n",
              "      --bg-color: #3B4455;\n",
              "      --fill-color: #D2E3FC;\n",
              "      --hover-bg-color: #434B5C;\n",
              "      --hover-fill-color: #FFFFFF;\n",
              "      --disabled-bg-color: #3B4455;\n",
              "      --disabled-fill-color: #666;\n",
              "  }\n",
              "\n",
              "  .colab-df-quickchart {\n",
              "    background-color: var(--bg-color);\n",
              "    border: none;\n",
              "    border-radius: 50%;\n",
              "    cursor: pointer;\n",
              "    display: none;\n",
              "    fill: var(--fill-color);\n",
              "    height: 32px;\n",
              "    padding: 0;\n",
              "    width: 32px;\n",
              "  }\n",
              "\n",
              "  .colab-df-quickchart:hover {\n",
              "    background-color: var(--hover-bg-color);\n",
              "    box-shadow: 0 1px 2px rgba(60, 64, 67, 0.3), 0 1px 3px 1px rgba(60, 64, 67, 0.15);\n",
              "    fill: var(--button-hover-fill-color);\n",
              "  }\n",
              "\n",
              "  .colab-df-quickchart-complete:disabled,\n",
              "  .colab-df-quickchart-complete:disabled:hover {\n",
              "    background-color: var(--disabled-bg-color);\n",
              "    fill: var(--disabled-fill-color);\n",
              "    box-shadow: none;\n",
              "  }\n",
              "\n",
              "  .colab-df-spinner {\n",
              "    border: 2px solid var(--fill-color);\n",
              "    border-color: transparent;\n",
              "    border-bottom-color: var(--fill-color);\n",
              "    animation:\n",
              "      spin 1s steps(1) infinite;\n",
              "  }\n",
              "\n",
              "  @keyframes spin {\n",
              "    0% {\n",
              "      border-color: transparent;\n",
              "      border-bottom-color: var(--fill-color);\n",
              "      border-left-color: var(--fill-color);\n",
              "    }\n",
              "    20% {\n",
              "      border-color: transparent;\n",
              "      border-left-color: var(--fill-color);\n",
              "      border-top-color: var(--fill-color);\n",
              "    }\n",
              "    30% {\n",
              "      border-color: transparent;\n",
              "      border-left-color: var(--fill-color);\n",
              "      border-top-color: var(--fill-color);\n",
              "      border-right-color: var(--fill-color);\n",
              "    }\n",
              "    40% {\n",
              "      border-color: transparent;\n",
              "      border-right-color: var(--fill-color);\n",
              "      border-top-color: var(--fill-color);\n",
              "    }\n",
              "    60% {\n",
              "      border-color: transparent;\n",
              "      border-right-color: var(--fill-color);\n",
              "    }\n",
              "    80% {\n",
              "      border-color: transparent;\n",
              "      border-right-color: var(--fill-color);\n",
              "      border-bottom-color: var(--fill-color);\n",
              "    }\n",
              "    90% {\n",
              "      border-color: transparent;\n",
              "      border-bottom-color: var(--fill-color);\n",
              "    }\n",
              "  }\n",
              "</style>\n",
              "\n",
              "      <script>\n",
              "        async function quickchart(key) {\n",
              "          const quickchartButtonEl =\n",
              "            document.querySelector('#' + key + ' button');\n",
              "          quickchartButtonEl.disabled = true;  // To prevent multiple clicks.\n",
              "          quickchartButtonEl.classList.add('colab-df-spinner');\n",
              "          try {\n",
              "            const charts = await google.colab.kernel.invokeFunction(\n",
              "                'suggestCharts', [key], {});\n",
              "          } catch (error) {\n",
              "            console.error('Error during call to suggestCharts:', error);\n",
              "          }\n",
              "          quickchartButtonEl.classList.remove('colab-df-spinner');\n",
              "          quickchartButtonEl.classList.add('colab-df-quickchart-complete');\n",
              "        }\n",
              "        (() => {\n",
              "          let quickchartButtonEl =\n",
              "            document.querySelector('#df-a09cef98-4a48-49b6-a62f-36a8995280e6 button');\n",
              "          quickchartButtonEl.style.display =\n",
              "            google.colab.kernel.accessAllowed ? 'block' : 'none';\n",
              "        })();\n",
              "      </script>\n",
              "    </div>\n",
              "\n",
              "  <div id=\"id_7d2bfe8c-1136-4c72-8e05-ff986cdff7fa\">\n",
              "    <style>\n",
              "      .colab-df-generate {\n",
              "        background-color: #E8F0FE;\n",
              "        border: none;\n",
              "        border-radius: 50%;\n",
              "        cursor: pointer;\n",
              "        display: none;\n",
              "        fill: #1967D2;\n",
              "        height: 32px;\n",
              "        padding: 0 0 0 0;\n",
              "        width: 32px;\n",
              "      }\n",
              "\n",
              "      .colab-df-generate:hover {\n",
              "        background-color: #E2EBFA;\n",
              "        box-shadow: 0px 1px 2px rgba(60, 64, 67, 0.3), 0px 1px 3px 1px rgba(60, 64, 67, 0.15);\n",
              "        fill: #174EA6;\n",
              "      }\n",
              "\n",
              "      [theme=dark] .colab-df-generate {\n",
              "        background-color: #3B4455;\n",
              "        fill: #D2E3FC;\n",
              "      }\n",
              "\n",
              "      [theme=dark] .colab-df-generate:hover {\n",
              "        background-color: #434B5C;\n",
              "        box-shadow: 0px 1px 3px 1px rgba(0, 0, 0, 0.15);\n",
              "        filter: drop-shadow(0px 1px 2px rgba(0, 0, 0, 0.3));\n",
              "        fill: #FFFFFF;\n",
              "      }\n",
              "    </style>\n",
              "    <button class=\"colab-df-generate\" onclick=\"generateWithVariable('df')\"\n",
              "            title=\"Generate code using this dataframe.\"\n",
              "            style=\"display:none;\">\n",
              "\n",
              "  <svg xmlns=\"http://www.w3.org/2000/svg\" height=\"24px\"viewBox=\"0 0 24 24\"\n",
              "       width=\"24px\">\n",
              "    <path d=\"M7,19H8.4L18.45,9,17,7.55,7,17.6ZM5,21V16.75L18.45,3.32a2,2,0,0,1,2.83,0l1.4,1.43a1.91,1.91,0,0,1,.58,1.4,1.91,1.91,0,0,1-.58,1.4L9.25,21ZM18.45,9,17,7.55Zm-12,3A5.31,5.31,0,0,0,4.9,8.1,5.31,5.31,0,0,0,1,6.5,5.31,5.31,0,0,0,4.9,4.9,5.31,5.31,0,0,0,6.5,1,5.31,5.31,0,0,0,8.1,4.9,5.31,5.31,0,0,0,12,6.5,5.46,5.46,0,0,0,6.5,12Z\"/>\n",
              "  </svg>\n",
              "    </button>\n",
              "    <script>\n",
              "      (() => {\n",
              "      const buttonEl =\n",
              "        document.querySelector('#id_7d2bfe8c-1136-4c72-8e05-ff986cdff7fa button.colab-df-generate');\n",
              "      buttonEl.style.display =\n",
              "        google.colab.kernel.accessAllowed ? 'block' : 'none';\n",
              "\n",
              "      buttonEl.onclick = () => {\n",
              "        google.colab.notebook.generateWithVariable('df');\n",
              "      }\n",
              "      })();\n",
              "    </script>\n",
              "  </div>\n",
              "\n",
              "    </div>\n",
              "  </div>\n"
            ],
            "application/vnd.google.colaboratory.intrinsic+json": {
              "type": "dataframe",
              "variable_name": "df",
              "summary": "{\n  \"name\": \"df\",\n  \"rows\": 10,\n  \"fields\": [\n    {\n      \"column\": \"Title\",\n      \"properties\": {\n        \"dtype\": \"string\",\n        \"num_unique_values\": 10,\n        \"samples\": [\n          \"ElectAnon: A Blockchain-Based, Anonymous, Robust and Scalable\\n  Ranked-Choice Voting Protocol\",\n          \"SBvote: Scalable Self-Tallying Blockchain-Based Voting\",\n          \"Effects of Vote Delegation in Blockchains: Who Wins?\"\n        ],\n        \"semantic_type\": \"\",\n        \"description\": \"\"\n      }\n    },\n    {\n      \"column\": \"Summary\",\n      \"properties\": {\n        \"dtype\": \"string\",\n        \"num_unique_values\": 10,\n        \"samples\": [\n          \"Remote voting has become more critical in recent years, especially after the Covid-19 outbreak. Blockchain technology and its benefits like decentralization, security, and transparency have encouraged remote voting systems to use blockchains. Analysis of existing solutions reveals that anonymity, robustness, and scalability are common problems in blockchain-based election systems. In this work, we propose ElectAnon, a blockchain-based, ranked-choice election protocol focusing on anonymity, robustness, and scalability. ElectAnon achieves anonymity by enabling voters to cast their votes via zero-knowledge proofs anonymously. Robustness is realized by removing the direct control of the authorities in the voting process by using timed-state machines. Results show that ElectAnon is scalable amongst existing works as it reduces the gas consumption up to 89% compared to previous works. The proposed protocol includes a candidate proposal system and swappable tallying libraries. An extension is also proposed to minimize the trust assumption on election authorities. Our code is available on https://github.com/ceyonur/electanon.\",\n          \"Decentralized electronic voting solutions represent a promising advancement in electronic voting. One of the e-voting paradigms, the self-tallying scheme, offers strong protection of the voters' privacy while making the whole voting process verifiable. Decentralized smart contract platforms became interesting practical instantiation of the immutable bulletin board that this scheme requires to preserve its properties. Existing smart contract-based approaches employing the self-tallying scheme (such as OVN or BBB-Voting) are only suitable for a boardroom voting scenario due to their scalability limitation. The goal of our work is to build on existing solutions to achieve scalability without losing privacy guarantees and verifiability. We present SBvote, a blockchain-based self-tallying voting protocol that is scalable in the number of voters and therefore suitable for large-scale elections. The evaluation of our proof-of-concept implementation shows that the protocol's scalability is limited only by the underlying blockchain platform. We evaluated the scalability of SBvote on two public smart contract platforms -- Gnosis and Harmony. Despite the limitations imposed by the throughput of the blockchain platform, SBvote can accommodate elections with millions of voters.\",\n          \"This paper investigates which alternative benefits from vote delegation in binary collective decisions within blockchains. We begin by examining two extreme cases of voting weight distributions: Equal-Weight (EW), where each voter has equal voting weight, and Dominant-Weight (DW), where a single voter holds a majority of the voting weights before any delegation occurs. We show that vote delegation tends to benefit the ex-ante minority under EW, i.e., the alternative with a lower initial probability of winning. The converse holds under DW distribution. Through numerical simulations, we extend our findings to arbitrary voting weight distributions, showing that vote delegation benefits the ex-ante majority when it leads to a more balanced distribution of voting weights. Finally, in large communities where all agents have equal voting weight, vote delegation has a negligible impact on the outcome. These insights provide practical guidance for governance decisions in blockchains.\"\n        ],\n        \"semantic_type\": \"\",\n        \"description\": \"\"\n      }\n    },\n    {\n      \"column\": \"arXiv ID\",\n      \"properties\": {\n        \"dtype\": \"string\",\n        \"num_unique_values\": 10,\n        \"samples\": [\n          \"2204.00057v2\",\n          \"2206.06019v1\",\n          \"2408.05410v1\"\n        ],\n        \"semantic_type\": \"\",\n        \"description\": \"\"\n      }\n    },\n    {\n      \"column\": \"Citation\",\n      \"properties\": {\n        \"dtype\": \"string\",\n        \"num_unique_values\": 10,\n        \"samples\": [\n          \"C. Onur, A. Yurdakul, \\u201cElectAnon: A Blockchain-Based, Anonymous, Robust and Scalable\\n  Ranked-Choice Voting Protocol,\\u201d *arXiv preprint arXiv:2204.00057v2*, Mar. 2022. [Online]. Available: https://arxiv.org/abs/2204.00057v2\",\n          \"I. Stan\\u010d\\u00edkov\\u00e1, I. Homoliak, \\u201cSBvote: Scalable Self-Tallying Blockchain-Based Voting,\\u201d *arXiv preprint arXiv:2206.06019v1*, Jun. 2022. [Online]. Available: https://arxiv.org/abs/2206.06019v1\",\n          \"H. Gersbach, M. Schneider, P. Shahkar, \\u201cEffects of Vote Delegation in Blockchains: Who Wins?,\\u201d *arXiv preprint arXiv:2408.05410v1*, Aug. 2024. [Online]. Available: https://arxiv.org/abs/2408.05410v1\"\n        ],\n        \"semantic_type\": \"\",\n        \"description\": \"\"\n      }\n    }\n  ]\n}"
            }
          },
          "metadata": {},
          "execution_count": 22
        }
      ]
    },
    {
      "cell_type": "code",
      "source": [
        "# from google.colab import sheets\n",
        "# sheet = sheets.InteractiveSheet(df=df)\n",
        "# # Use to create Google Sheet"
      ],
      "metadata": {
        "id": "Lysmsq_excbY"
      },
      "execution_count": 33,
      "outputs": []
    },
    {
      "cell_type": "markdown",
      "source": [
        "Code to download PDF of research paper"
      ],
      "metadata": {
        "id": "Y3OEGozY0GpC"
      }
    },
    {
      "cell_type": "code",
      "source": [
        "!pip install arxiv"
      ],
      "metadata": {
        "id": "3RnGHBKC0MhG"
      },
      "execution_count": null,
      "outputs": []
    },
    {
      "cell_type": "code",
      "source": [
        "import arxiv\n",
        "import os\n",
        "\n",
        "# List of arXiv paper IDs (you can add more here)\n",
        "# list1 = [\n",
        "#     \"1605.08386v1\",\n",
        "#     \"2401.12981v1\",\n",
        "#     \"2506.03188v1\"\n",
        "# ]\n",
        "list1 = list(df['arXiv ID'])\n",
        "# Directory to store downloads\n",
        "download_dir = \"./mydir\"\n",
        "os.makedirs(download_dir, exist_ok=True)\n",
        "\n",
        "# Initialize arXiv client\n",
        "client = arxiv.Client()\n",
        "\n",
        "# Loop over first three paper\n",
        "for paper_id in list1[0:1]:\n",
        "    try:\n",
        "        # Fetch the paper\n",
        "        paper = next(client.results(arxiv.Search(id_list=[paper_id])))\n",
        "\n",
        "        # Create a unique filename per paper (e.g., use arXiv ID)\n",
        "        filename = f\"{paper_id.replace('/', '_')}.pdf\"\n",
        "\n",
        "        # Download the paper PDF\n",
        "        paper.download_pdf(dirpath=download_dir, filename=filename)\n",
        "\n",
        "        print(f\"Downloaded {paper_id} to {os.path.join(download_dir, filename)}\")\n",
        "    except Exception as e:\n",
        "        print(f\"Failed to download {paper_id}: {e}\")\n"
      ],
      "metadata": {
        "colab": {
          "base_uri": "https://localhost:8080/"
        },
        "id": "0VbP8CVe1t2O",
        "outputId": "c2452272-1086-4d07-892d-9c7a61135fca"
      },
      "execution_count": 30,
      "outputs": [
        {
          "output_type": "stream",
          "name": "stdout",
          "text": [
            "Downloaded 2206.03182v1 to ./mydir/2206.03182v1.pdf\n"
          ]
        }
      ]
    },
    {
      "cell_type": "markdown",
      "source": [
        "NOW TO RAG over the research paper"
      ],
      "metadata": {
        "id": "u_oE16ky2Ine"
      }
    },
    {
      "cell_type": "markdown",
      "source": [
        "User will ask to simplify or tell more about paper one or topic of paper or paper id then:\n",
        "Download the paper\n",
        "Feed it to LLM\n",
        "and let the conversation happen"
      ],
      "metadata": {
        "id": "Q-mymHyJ3eDW"
      }
    },
    {
      "cell_type": "markdown",
      "source": [
        "QA Agent: Verifies relevance of content."
      ],
      "metadata": {
        "id": "8xjlfy6Y351e"
      }
    },
    {
      "cell_type": "code",
      "source": [
        "!pip install pypdf langchain langchain-community sentence-transformers faiss-cpu\n"
      ],
      "metadata": {
        "id": "VXdOSyaa3dKm"
      },
      "execution_count": null,
      "outputs": []
    },
    {
      "cell_type": "code",
      "source": [
        "import os\n",
        "import requests\n",
        "from langchain_community.document_loaders import PyPDFLoader\n",
        "from langchain.text_splitter import CharacterTextSplitter\n",
        "from langchain.embeddings import HuggingFaceEmbeddings\n",
        "from langchain.vectorstores import FAISS\n",
        "from langchain.chains import RetrievalQA\n",
        "from langchain.llms import OpenAI  # or Groq wrapped\n",
        "\n",
        "# Optional: use Groq if you want to stay consistent\n",
        "from langchain_groq import ChatGroq\n",
        "\n"
      ],
      "metadata": {
        "id": "ZDbqedB5ySpC"
      },
      "execution_count": 5,
      "outputs": []
    },
    {
      "cell_type": "code",
      "source": [
        "\n",
        "# Setup LLM (same as before)\n",
        "llm = ChatGroq(model=\"llama-3.3-70b-versatile\", temperature=0.3,api_key= userdata.get('GROQ_API_KEY'))\n",
        "embedding = HuggingFaceEmbeddings(model_name=\"sentence-transformers/all-MiniLM-L6-v2\")"
      ],
      "metadata": {
        "id": "OyEXBMyttVCk"
      },
      "execution_count": null,
      "outputs": []
    },
    {
      "cell_type": "code",
      "source": [
        "import requests\n",
        "\n",
        "# def get_or_download_paper(paper_id, folder=\"/mydir\"):\n",
        "#     file_path = os.path.join(folder, f\"{paper_id}.pdf\")\n",
        "\n",
        "#     if os.path.exists(file_path):\n",
        "#         print(f\"✅ Found cached PDF for paper ID: {paper_id}\")\n",
        "#     else:\n",
        "#         print(f\"⬇️ Downloading paper {paper_id} from arXiv...\")\n",
        "#         url = f\"https://arxiv.org/pdf/{paper_id}.pdf\"\n",
        "#         response = requests.get(url)\n",
        "#         if response.status_code == 200:\n",
        "#             with open(file_path, \"wb\") as f:\n",
        "#                 f.write(response.content)\n",
        "#             print(f\"✅ Downloaded and saved to {file_path}\")\n",
        "#         else:\n",
        "#             raise Exception(f\"❌ Failed to download PDF. Status code: {response.status_code}\")\n",
        "\n",
        "#     return file_path\n",
        "\n",
        "import os\n",
        "import arxiv\n",
        "def get_or_download_paper(paper_id, folder=\"./mydir\"):\n",
        "    os.makedirs(folder, exist_ok=True)\n",
        "    filename = f\"{paper_id.replace('/', '_')}.pdf\"\n",
        "    file_path = os.path.join(folder, filename)\n",
        "\n",
        "    if os.path.exists(file_path):\n",
        "        print(f\"✅ Found cached PDF for paper ID: {paper_id}\")\n",
        "    else:\n",
        "        print(f\"⬇️ Downloading paper {paper_id} from arXiv using official client...\")\n",
        "        try:\n",
        "            client = arxiv.Client()\n",
        "            search = arxiv.Search(id_list=[paper_id])\n",
        "            paper = next(client.results(search))\n",
        "            paper.download_pdf(dirpath=folder, filename=filename)\n",
        "            print(f\"✅ Downloaded {paper_id} to {file_path}\")\n",
        "        except Exception as e:\n",
        "            raise RuntimeError(f\"❌ Failed to download {paper_id}: {e}\")\n",
        "\n",
        "    return file_path\n"
      ],
      "metadata": {
        "id": "nDmpJ34-vZtv"
      },
      "execution_count": 42,
      "outputs": []
    },
    {
      "cell_type": "code",
      "source": [
        "# def create_rag_chain_from_pdf(pdf_path):\n",
        "#     loader = PyPDFLoader(pdf_path)\n",
        "#     pages = loader.load()\n",
        "\n",
        "#     text_splitter = CharacterTextSplitter(chunk_size=1000, chunk_overlap=200)\n",
        "#     docs = text_splitter.split_documents(pages)\n",
        "\n",
        "#     vector_store = FAISS.from_documents(docs, embedding)\n",
        "#     retriever = vector_store.as_retriever()\n",
        "\n",
        "#     qa_chain = RetrievalQA.from_chain_type(llm=llm, retriever=retriever, return_source_documents=False)\n",
        "#     return qa_chain\n",
        "def build_rag_chain(pdf_path):\n",
        "    loader = PyPDFLoader(pdf_path)\n",
        "    pages = loader.load()\n",
        "\n",
        "    splitter = CharacterTextSplitter(chunk_size=1000, chunk_overlap=200)\n",
        "    docs = splitter.split_documents(pages)\n",
        "\n",
        "    vectordb = FAISS.from_documents(docs, embedding)\n",
        "    retriever = vectordb.as_retriever()\n",
        "\n",
        "    qa = RetrievalQA.from_chain_type(llm=llm, retriever=retriever)\n",
        "    return qa"
      ],
      "metadata": {
        "id": "XadkCMRTuA4c"
      },
      "execution_count": 43,
      "outputs": []
    },
    {
      "cell_type": "code",
      "source": [
        "# def answer_question_about_paper(paper_id, user_question):\n",
        "#     pdf_path = download_arxiv_pdf(paper_id)\n",
        "#     rag_chain = create_rag_chain_from_pdf(pdf_path)\n",
        "#     return rag_chain.run(user_question)\n",
        "def answer_user_question(paper_id, question, folder=\"/mydir\"):\n",
        "    pdf_path = get_or_download_paper(paper_id, folder=folder)\n",
        "    rag_chain = build_rag_chain(pdf_path)\n",
        "    answer = rag_chain.run(question)\n",
        "    return answer"
      ],
      "metadata": {
        "id": "pMBSo0yuuDzo"
      },
      "execution_count": 44,
      "outputs": []
    },
    {
      "cell_type": "code",
      "source": [
        "paper_id = \"2206.03182v1\"  # Can be extracted from table or user message\n",
        "question = \"What is the core contribution of this paper?\"\n",
        "\n",
        "response = answer_user_question(paper_id, question)\n",
        "print(\"🤖\", response)\n",
        "\n"
      ],
      "metadata": {
        "colab": {
          "base_uri": "https://localhost:8080/"
        },
        "id": "U_YRIwNMuGdB",
        "outputId": "eb2107aa-4f75-4245-f5f0-89ab46874645"
      },
      "execution_count": 45,
      "outputs": [
        {
          "output_type": "stream",
          "name": "stdout",
          "text": [
            "✅ Found cached PDF for paper ID: 2206.03182v1\n",
            "🤖 The core contribution of this paper appears to be the proposal of an anonymous voting scheme using quantum-assisted blockchain technology. The paper aims to address the limitations of traditional electronic voting systems and provide a secure, verifiable, and auditable voting process using the principles of quantum mechanics and blockchain technology. The proposed scheme utilizes a permissioned quantum blockchain to ensure the integrity and security of the voting process, and it outlines the roles and responsibilities of various stakeholders, including the voting authority, miners, and voters.\n"
          ]
        }
      ]
    },
    {
      "cell_type": "code",
      "source": [
        "import os\n",
        "\n",
        "os.makedirs(\"./mydir\", exist_ok=True)"
      ],
      "metadata": {
        "id": "NaQ2Au8duKVi"
      },
      "execution_count": 47,
      "outputs": []
    },
    {
      "cell_type": "code",
      "source": [
        "paper_id = \"2409.08161v2\"  # Can be extracted from table or user message\n",
        "question = \"Why was Hot stuff excluded from the experiment?\"\n",
        "\n",
        "response = answer_user_question(paper_id, question)\n",
        "print(\"🤖\", response)\n",
        "\n"
      ],
      "metadata": {
        "colab": {
          "base_uri": "https://localhost:8080/"
        },
        "id": "f78_TBm_vRBn",
        "outputId": "6dc14ace-91dc-4360-b489-3b72ade9da29"
      },
      "execution_count": 50,
      "outputs": [
        {
          "output_type": "stream",
          "name": "stdout",
          "text": [
            "✅ Found cached PDF for paper ID: 2409.08161v2\n",
            "🤖 HotStuff was excluded from the experiment in the asynchronous network (bad-case latency) because it cannot function in an asynchronous network.\n"
          ]
        }
      ]
    },
    {
      "cell_type": "code",
      "source": [],
      "metadata": {
        "id": "luU6jSqUyXTB"
      },
      "execution_count": null,
      "outputs": []
    }
  ]
}